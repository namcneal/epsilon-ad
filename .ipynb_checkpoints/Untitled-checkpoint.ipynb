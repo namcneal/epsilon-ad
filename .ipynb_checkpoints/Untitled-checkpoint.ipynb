{
 "cells": [
  {
   "cell_type": "code",
   "execution_count": 47,
   "id": "959ec3b9-3e37-460d-b004-a5b9dcd9ee2c",
   "metadata": {},
   "outputs": [],
   "source": [
    ":dep epsilon-ad = {path = \".\"}\n",
    ":dep ndarray\n",
    "\n",
    "use ndarray::prelude::*;\n",
    "use epsilon_ad::duals::dual_arrays::*;\n",
    "use epsilon_ad::differentiation::lifting::*;\n",
    "use epsilon_ad::differentiation::jacobian::*;"
   ]
  },
  {
   "cell_type": "code",
   "execution_count": 33,
   "id": "14c5f9d9-c696-4a6d-a86e-a31f3c845848",
   "metadata": {},
   "outputs": [],
   "source": [
    "let e0 : ndarray::Array1<f64> = array![1.0, 2.0, 3.0, 1.0];\n",
    "let mut e0 : DVector<f64> = DVector::<f64>::new(e0.lift(0));\n",
    "\n",
    "let basis : StandardBasis<f64> = StandardBasis::<f64>::from(e0);\n",
    "// let jacobian = jacobian(f,&mut lifted_x).map(|dual| dual.value);\n",
    "// println!(\"{:?}\", g(&mut lifted_x));\n",
    "\n",
    "\n",
    "// let f : fn(x:&DVector<f64>) -> DArray<f64> = DVector::<f64>::graham_schmidt_with_standard_basis;\n",
    "// let R : DArray::<f64> = f(&x).map(|vi| vi.value);\n",
    "// // let J = jacobian(f, &mut lifted_x).map(|dual| dual.value);\n",
    "\n",
    "//     // let jacobian = jacobian(f,&mut lifted_x).map(|dual| dual.value);\n",
    "\n",
    "// let d = x.0.len();\n",
    "// let mut test : ndarray::ArrayD<f64> = ArrayD::from_elem(IxDyn(&[d,d]), 0.0);\n",
    "// for i in 0..d{\n",
    "//     for j in 0..d{\n",
    "//         for s in 0..d{\n",
    "//             test[[i,j]] += R[[i,s]] * R[[j,s]]; \n",
    "//         }\n",
    "//     }\n",
    "// }"
   ]
  },
  {
   "cell_type": "code",
   "execution_count": 28,
   "id": "22d436ff-f0f5-494a-974f-2165821c8d71",
   "metadata": {},
   "outputs": [
    {
     "data": {
      "text/plain": [
       "[[Dual { value: 0.2581988897471611, duals: Perturbation { coefficients: [0.28176911578671265, 0.023570226039551577, 0.016666666666666663, 0.013608276348795433], products: [NonEmptyEpsilonProduct { epsilons_within: 0, num_epsilons: 1 }, NonEmptyEpsilonProduct { epsilons_within: 55340232221128654848, num_epsilons: 1 }, NonEmptyEpsilonProduct { epsilons_within: 18446744073709551616, num_epsilons: 1 }, NonEmptyEpsilonProduct { epsilons_within: 36893488147419103232, num_epsilons: 1 }] } }, Dual { value: -0.15569978883230456, duals: Perturbation { coefficients: [], products: [] } }, Dual { value: -0.6396021490668313, duals: Perturbation { coefficients: [], products: [] } }, Dual { value: -0.7071067811865476, duals: Perturbation { coefficients: [], products: [] } }],\n",
       " [Dual { value: 0.5163977794943222, duals: Perturbation { coefficients: [0.047140452079103154, 0.2915322230804944, 0.027216552697590865, 0.047140452079103154], products: [NonEmptyEpsilonProduct { epsilons_within: 0, num_epsilons: 1 }, NonEmptyEpsilonProduct { epsilons_within: 18446744073709551616, num_epsilons: 1 }, NonEmptyEpsilonProduct { epsilons_within: 36893488147419103232, num_epsilons: 1 }, NonEmptyEpsilonProduct { epsilons_within: 55340232221128654848, num_epsilons: 1 }] } }, Dual { value: 0.8563488385776752, duals: Perturbation { coefficients: [], products: [] } }, Dual { value: -2.603703785810335e-16, duals: Perturbation { coefficients: [], products: [] } }, Dual { value: -2.747661802696607e-16, duals: Perturbation { coefficients: [], products: [] } }],\n",
       " [Dual { value: 0.7745966692414834, duals: Perturbation { coefficients: [0.07071067811865472, 0.2990237187935474, 0.07071067811865472, 0.04999999999999999], products: [NonEmptyEpsilonProduct { epsilons_within: 0, num_epsilons: 1 }, NonEmptyEpsilonProduct { epsilons_within: 36893488147419103232, num_epsilons: 1 }, NonEmptyEpsilonProduct { epsilons_within: 55340232221128654848, num_epsilons: 1 }, NonEmptyEpsilonProduct { epsilons_within: 18446744073709551616, num_epsilons: 1 }] } }, Dual { value: -0.46709936649691375, duals: Perturbation { coefficients: [], products: [] } }, Dual { value: 0.4264014327112208, duals: Perturbation { coefficients: [], products: [] } }, Dual { value: 0.0, duals: Perturbation { coefficients: [], products: [] } }],\n",
       " [Dual { value: 0.2581988897471611, duals: Perturbation { coefficients: [0.013608276348795433, 0.28176911578671265, 0.016666666666666663, 0.023570226039551577], products: [NonEmptyEpsilonProduct { epsilons_within: 36893488147419103232, num_epsilons: 1 }, NonEmptyEpsilonProduct { epsilons_within: 55340232221128654848, num_epsilons: 1 }, NonEmptyEpsilonProduct { epsilons_within: 18446744073709551616, num_epsilons: 1 }, NonEmptyEpsilonProduct { epsilons_within: 0, num_epsilons: 1 }] } }, Dual { value: -0.15569978883230456, duals: Perturbation { coefficients: [], products: [] } }, Dual { value: -0.6396021490668313, duals: Perturbation { coefficients: [], products: [] } }, Dual { value: 0.7071067811865475, duals: Perturbation { coefficients: [], products: [] } }]], shape=[4, 4], strides=[1, 4], layout=Ff (0xa), dynamic ndim=2"
      ]
     },
     "execution_count": 28,
     "metadata": {},
     "output_type": "execute_result"
    }
   ],
   "source": [
    "basis.matrix()"
   ]
  },
  {
   "cell_type": "code",
   "execution_count": 50,
   "id": "c4ec3f51-e838-4190-ab44-9255660cf92c",
   "metadata": {},
   "outputs": [
    {
     "data": {
      "text/plain": [
       "[[Dual { value: 2.0, duals: Perturbation { coefficients: [], products: [] } }, Dual { value: 4.0, duals: Perturbation { coefficients: [], products: [] } }, Dual { value: 6.0, duals: Perturbation { coefficients: [], products: [] } }, Dual { value: 2.0, duals: Perturbation { coefficients: [], products: [] } }]], shape=[1, 4], strides=[4, 1], layout=CFcf (0xf), dynamic ndim=2"
      ]
     },
     "execution_count": 50,
     "metadata": {},
     "output_type": "execute_result"
    }
   ],
   "source": [
    "fn f(x:&DVector<f64>) -> DArray<f64>{\n",
    "    arr1(&[DVector::<f64>::inner(&x, &x)]).into_dyn()\n",
    "}\n",
    "\n",
    "fn g(x:&DVector<f64>) -> DArray<f64>{\n",
    "    jacobian(f, x)\n",
    "}\n",
    "\n",
    "\n",
    "let e0 : ndarray::Array1<f64> = array![1.0, 2.0, 3.0, 1.0];\n",
    "let mut e0 : DVector<f64> = DVector::<f64>::new(e0.lift(0));\n",
    "\n",
    "jacobian(g, &e0)"
   ]
  },
  {
   "cell_type": "code",
   "execution_count": null,
   "id": "962b7a73-a892-4399-ac19-12bfb5e8feba",
   "metadata": {},
   "outputs": [],
   "source": []
  }
 ],
 "metadata": {
  "kernelspec": {
   "display_name": "Rust",
   "language": "rust",
   "name": "rust"
  },
  "language_info": {
   "codemirror_mode": "rust",
   "file_extension": ".rs",
   "mimetype": "text/rust",
   "name": "Rust",
   "pygment_lexer": "rust",
   "version": ""
  }
 },
 "nbformat": 4,
 "nbformat_minor": 5
}
